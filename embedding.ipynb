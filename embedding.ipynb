{
 "cells": [
  {
   "cell_type": "code",
   "execution_count": 1,
   "metadata": {},
   "outputs": [],
   "source": [
    "import numpy as np\n",
    "from tensorflow.keras.preprocessing.text import Tokenizer\n",
    "from tensorflow.keras.preprocessing.sequence import pad_sequences\n",
    "\n",
    "sentences = ['nice great best amazing', 'stop lies', 'pitiful nerd', 'excellent work', 'supreme quality', 'bad', 'highly respectable']\n",
    "y_train = [1, 0, 0, 1, 1, 0, 1]"
   ]
  },
  {
   "cell_type": "code",
   "execution_count": 2,
   "metadata": {},
   "outputs": [
    {
     "name": "stdout",
     "output_type": "stream",
     "text": [
      "단어 집합 : 16\n"
     ]
    }
   ],
   "source": [
    "tokenizer = Tokenizer()\n",
    "tokenizer.fit_on_texts(sentences)\n",
    "vocab_size = len(tokenizer.word_index) + 1 # 패딩을 고려하여 +1\n",
    "print('단어 집합 :',vocab_size)"
   ]
  },
  {
   "cell_type": "code",
   "execution_count": 3,
   "metadata": {},
   "outputs": [
    {
     "name": "stdout",
     "output_type": "stream",
     "text": [
      "정수 인코딩 결과 : [[1, 2, 3, 4], [5, 6], [7, 8], [9, 10], [11, 12], [13], [14, 15]]\n"
     ]
    }
   ],
   "source": [
    "X_encoded = tokenizer.texts_to_sequences(sentences)\n",
    "print('정수 인코딩 결과 :',X_encoded)"
   ]
  },
  {
   "cell_type": "code",
   "execution_count": 10,
   "metadata": {},
   "outputs": [
    {
     "name": "stdout",
     "output_type": "stream",
     "text": [
      "최대 길이 : 4\n"
     ]
    }
   ],
   "source": [
    "max_len = max(len(l) for l in X_encoded)\n",
    "print('최대 길이 :',max_len)"
   ]
  },
  {
   "cell_type": "code",
   "execution_count": 9,
   "metadata": {},
   "outputs": [
    {
     "name": "stdout",
     "output_type": "stream",
     "text": [
      "패딩 결과 :\n",
      "[[ 1  2  3  4]\n",
      " [ 5  6  0  0]\n",
      " [ 7  8  0  0]\n",
      " [ 9 10  0  0]\n",
      " [11 12  0  0]\n",
      " [13  0  0  0]\n",
      " [14 15  0  0]]\n",
      "[1 0 0 1 1 0 1]\n"
     ]
    }
   ],
   "source": [
    "X_train = pad_sequences(X_encoded, maxlen=max_len, padding='post')\n",
    "y_train = np.array(y_train)\n",
    "print('패딩 결과 :')\n",
    "print(X_train)\n",
    "print(y_train)"
   ]
  },
  {
   "cell_type": "code",
   "execution_count": 8,
   "metadata": {},
   "outputs": [
    {
     "name": "stderr",
     "output_type": "stream",
     "text": [
      "2023-02-12 20:34:18.147659: I tensorflow/stream_executor/cuda/cuda_gpu_executor.cc:922] could not open file to read NUMA node: /sys/bus/pci/devices/0000:2d:00.0/numa_node\n",
      "Your kernel may have been built without NUMA support.\n",
      "2023-02-12 20:34:18.516416: I tensorflow/stream_executor/cuda/cuda_gpu_executor.cc:922] could not open file to read NUMA node: /sys/bus/pci/devices/0000:2d:00.0/numa_node\n",
      "Your kernel may have been built without NUMA support.\n",
      "2023-02-12 20:34:18.516468: I tensorflow/stream_executor/cuda/cuda_gpu_executor.cc:922] could not open file to read NUMA node: /sys/bus/pci/devices/0000:2d:00.0/numa_node\n",
      "Your kernel may have been built without NUMA support.\n",
      "2023-02-12 20:34:18.521240: I tensorflow/core/platform/cpu_feature_guard.cc:151] This TensorFlow binary is optimized with oneAPI Deep Neural Network Library (oneDNN) to use the following CPU instructions in performance-critical operations:  AVX2 AVX512F FMA\n",
      "To enable them in other operations, rebuild TensorFlow with the appropriate compiler flags.\n",
      "2023-02-12 20:34:18.522689: I tensorflow/stream_executor/cuda/cuda_gpu_executor.cc:922] could not open file to read NUMA node: /sys/bus/pci/devices/0000:2d:00.0/numa_node\n",
      "Your kernel may have been built without NUMA support.\n",
      "2023-02-12 20:34:18.522740: I tensorflow/stream_executor/cuda/cuda_gpu_executor.cc:922] could not open file to read NUMA node: /sys/bus/pci/devices/0000:2d:00.0/numa_node\n",
      "Your kernel may have been built without NUMA support.\n",
      "2023-02-12 20:34:18.522758: I tensorflow/stream_executor/cuda/cuda_gpu_executor.cc:922] could not open file to read NUMA node: /sys/bus/pci/devices/0000:2d:00.0/numa_node\n",
      "Your kernel may have been built without NUMA support.\n",
      "2023-02-12 20:34:22.482159: I tensorflow/stream_executor/cuda/cuda_gpu_executor.cc:922] could not open file to read NUMA node: /sys/bus/pci/devices/0000:2d:00.0/numa_node\n",
      "Your kernel may have been built without NUMA support.\n",
      "2023-02-12 20:34:22.482284: I tensorflow/stream_executor/cuda/cuda_gpu_executor.cc:922] could not open file to read NUMA node: /sys/bus/pci/devices/0000:2d:00.0/numa_node\n",
      "Your kernel may have been built without NUMA support.\n",
      "2023-02-12 20:34:22.482295: I tensorflow/core/common_runtime/gpu/gpu_device.cc:1609] Could not identify NUMA node of platform GPU id 0, defaulting to 0.  Your kernel may not have been built with NUMA support.\n",
      "2023-02-12 20:34:22.482321: I tensorflow/stream_executor/cuda/cuda_gpu_executor.cc:922] could not open file to read NUMA node: /sys/bus/pci/devices/0000:2d:00.0/numa_node\n",
      "Your kernel may have been built without NUMA support.\n",
      "2023-02-12 20:34:22.482378: W tensorflow/core/common_runtime/gpu/gpu_bfc_allocator.cc:39] Overriding allow_growth setting because the TF_FORCE_GPU_ALLOW_GROWTH environment variable is set. Original config value was 0.\n",
      "2023-02-12 20:34:22.483562: I tensorflow/core/common_runtime/gpu/gpu_device.cc:1525] Created device /job:localhost/replica:0/task:0/device:GPU:0 with 1197 MB memory:  -> device: 0, name: NVIDIA GeForce MX450, pci bus id: 0000:2d:00.0, compute capability: 7.5\n"
     ]
    },
    {
     "name": "stdout",
     "output_type": "stream",
     "text": [
      "Epoch 1/100\n",
      "1/1 - 4s - loss: 0.6950 - acc: 0.4286 - 4s/epoch - 4s/step\n",
      "Epoch 2/100\n",
      "1/1 - 0s - loss: 0.6934 - acc: 0.4286 - 11ms/epoch - 11ms/step\n",
      "Epoch 3/100\n",
      "1/1 - 0s - loss: 0.6917 - acc: 0.4286 - 12ms/epoch - 12ms/step\n",
      "Epoch 4/100\n",
      "1/1 - 0s - loss: 0.6901 - acc: 0.5714 - 12ms/epoch - 12ms/step\n",
      "Epoch 5/100\n",
      "1/1 - 0s - loss: 0.6884 - acc: 0.7143 - 12ms/epoch - 12ms/step\n",
      "Epoch 6/100\n",
      "1/1 - 0s - loss: 0.6868 - acc: 0.7143 - 12ms/epoch - 12ms/step\n",
      "Epoch 7/100\n",
      "1/1 - 0s - loss: 0.6851 - acc: 0.7143 - 9ms/epoch - 9ms/step\n",
      "Epoch 8/100\n",
      "1/1 - 0s - loss: 0.6835 - acc: 0.8571 - 10ms/epoch - 10ms/step\n",
      "Epoch 9/100\n",
      "1/1 - 0s - loss: 0.6819 - acc: 0.8571 - 9ms/epoch - 9ms/step\n",
      "Epoch 10/100\n",
      "1/1 - 0s - loss: 0.6802 - acc: 0.8571 - 12ms/epoch - 12ms/step\n",
      "Epoch 11/100\n",
      "1/1 - 0s - loss: 0.6786 - acc: 0.8571 - 12ms/epoch - 12ms/step\n",
      "Epoch 12/100\n",
      "1/1 - 0s - loss: 0.6769 - acc: 0.8571 - 14ms/epoch - 14ms/step\n",
      "Epoch 13/100\n",
      "1/1 - 0s - loss: 0.6753 - acc: 0.8571 - 12ms/epoch - 12ms/step\n",
      "Epoch 14/100\n",
      "1/1 - 0s - loss: 0.6737 - acc: 0.8571 - 10ms/epoch - 10ms/step\n",
      "Epoch 15/100\n",
      "1/1 - 0s - loss: 0.6720 - acc: 0.8571 - 13ms/epoch - 13ms/step\n",
      "Epoch 16/100\n",
      "1/1 - 0s - loss: 0.6704 - acc: 0.8571 - 12ms/epoch - 12ms/step\n",
      "Epoch 17/100\n",
      "1/1 - 0s - loss: 0.6687 - acc: 0.8571 - 9ms/epoch - 9ms/step\n",
      "Epoch 18/100\n",
      "1/1 - 0s - loss: 0.6671 - acc: 1.0000 - 15ms/epoch - 15ms/step\n",
      "Epoch 19/100\n",
      "1/1 - 0s - loss: 0.6654 - acc: 1.0000 - 14ms/epoch - 14ms/step\n",
      "Epoch 20/100\n",
      "1/1 - 0s - loss: 0.6638 - acc: 1.0000 - 12ms/epoch - 12ms/step\n",
      "Epoch 21/100\n",
      "1/1 - 0s - loss: 0.6621 - acc: 1.0000 - 8ms/epoch - 8ms/step\n",
      "Epoch 22/100\n",
      "1/1 - 0s - loss: 0.6605 - acc: 1.0000 - 9ms/epoch - 9ms/step\n",
      "Epoch 23/100\n",
      "1/1 - 0s - loss: 0.6588 - acc: 1.0000 - 13ms/epoch - 13ms/step\n",
      "Epoch 24/100\n",
      "1/1 - 0s - loss: 0.6571 - acc: 1.0000 - 18ms/epoch - 18ms/step\n",
      "Epoch 25/100\n",
      "1/1 - 0s - loss: 0.6555 - acc: 1.0000 - 9ms/epoch - 9ms/step\n",
      "Epoch 26/100\n",
      "1/1 - 0s - loss: 0.6538 - acc: 1.0000 - 15ms/epoch - 15ms/step\n",
      "Epoch 27/100\n",
      "1/1 - 0s - loss: 0.6521 - acc: 1.0000 - 13ms/epoch - 13ms/step\n",
      "Epoch 28/100\n",
      "1/1 - 0s - loss: 0.6504 - acc: 1.0000 - 13ms/epoch - 13ms/step\n",
      "Epoch 29/100\n",
      "1/1 - 0s - loss: 0.6487 - acc: 1.0000 - 15ms/epoch - 15ms/step\n",
      "Epoch 30/100\n",
      "1/1 - 0s - loss: 0.6470 - acc: 1.0000 - 16ms/epoch - 16ms/step\n",
      "Epoch 31/100\n",
      "1/1 - 0s - loss: 0.6453 - acc: 1.0000 - 17ms/epoch - 17ms/step\n",
      "Epoch 32/100\n",
      "1/1 - 0s - loss: 0.6436 - acc: 1.0000 - 12ms/epoch - 12ms/step\n",
      "Epoch 33/100\n",
      "1/1 - 0s - loss: 0.6419 - acc: 1.0000 - 18ms/epoch - 18ms/step\n",
      "Epoch 34/100\n",
      "1/1 - 0s - loss: 0.6402 - acc: 1.0000 - 18ms/epoch - 18ms/step\n",
      "Epoch 35/100\n",
      "1/1 - 0s - loss: 0.6384 - acc: 1.0000 - 17ms/epoch - 17ms/step\n",
      "Epoch 36/100\n",
      "1/1 - 0s - loss: 0.6367 - acc: 1.0000 - 9ms/epoch - 9ms/step\n",
      "Epoch 37/100\n",
      "1/1 - 0s - loss: 0.6350 - acc: 1.0000 - 7ms/epoch - 7ms/step\n",
      "Epoch 38/100\n",
      "1/1 - 0s - loss: 0.6332 - acc: 1.0000 - 7ms/epoch - 7ms/step\n",
      "Epoch 39/100\n",
      "1/1 - 0s - loss: 0.6314 - acc: 1.0000 - 9ms/epoch - 9ms/step\n",
      "Epoch 40/100\n",
      "1/1 - 0s - loss: 0.6297 - acc: 1.0000 - 9ms/epoch - 9ms/step\n",
      "Epoch 41/100\n",
      "1/1 - 0s - loss: 0.6279 - acc: 1.0000 - 8ms/epoch - 8ms/step\n",
      "Epoch 42/100\n",
      "1/1 - 0s - loss: 0.6261 - acc: 1.0000 - 11ms/epoch - 11ms/step\n",
      "Epoch 43/100\n",
      "1/1 - 0s - loss: 0.6243 - acc: 1.0000 - 10ms/epoch - 10ms/step\n",
      "Epoch 44/100\n",
      "1/1 - 0s - loss: 0.6225 - acc: 1.0000 - 10ms/epoch - 10ms/step\n",
      "Epoch 45/100\n",
      "1/1 - 0s - loss: 0.6207 - acc: 1.0000 - 10ms/epoch - 10ms/step\n",
      "Epoch 46/100\n",
      "1/1 - 0s - loss: 0.6189 - acc: 1.0000 - 8ms/epoch - 8ms/step\n",
      "Epoch 47/100\n",
      "1/1 - 0s - loss: 0.6171 - acc: 1.0000 - 12ms/epoch - 12ms/step\n",
      "Epoch 48/100\n",
      "1/1 - 0s - loss: 0.6153 - acc: 1.0000 - 11ms/epoch - 11ms/step\n",
      "Epoch 49/100\n",
      "1/1 - 0s - loss: 0.6135 - acc: 1.0000 - 13ms/epoch - 13ms/step\n",
      "Epoch 50/100\n",
      "1/1 - 0s - loss: 0.6116 - acc: 1.0000 - 11ms/epoch - 11ms/step\n",
      "Epoch 51/100\n",
      "1/1 - 0s - loss: 0.6098 - acc: 1.0000 - 10ms/epoch - 10ms/step\n",
      "Epoch 52/100\n",
      "1/1 - 0s - loss: 0.6079 - acc: 1.0000 - 7ms/epoch - 7ms/step\n",
      "Epoch 53/100\n",
      "1/1 - 0s - loss: 0.6060 - acc: 1.0000 - 10ms/epoch - 10ms/step\n",
      "Epoch 54/100\n",
      "1/1 - 0s - loss: 0.6042 - acc: 1.0000 - 17ms/epoch - 17ms/step\n",
      "Epoch 55/100\n",
      "1/1 - 0s - loss: 0.6023 - acc: 1.0000 - 11ms/epoch - 11ms/step\n",
      "Epoch 56/100\n",
      "1/1 - 0s - loss: 0.6004 - acc: 1.0000 - 11ms/epoch - 11ms/step\n",
      "Epoch 57/100\n",
      "1/1 - 0s - loss: 0.5985 - acc: 1.0000 - 9ms/epoch - 9ms/step\n",
      "Epoch 58/100\n",
      "1/1 - 0s - loss: 0.5966 - acc: 1.0000 - 13ms/epoch - 13ms/step\n",
      "Epoch 59/100\n",
      "1/1 - 0s - loss: 0.5947 - acc: 1.0000 - 11ms/epoch - 11ms/step\n",
      "Epoch 60/100\n",
      "1/1 - 0s - loss: 0.5927 - acc: 1.0000 - 11ms/epoch - 11ms/step\n",
      "Epoch 61/100\n",
      "1/1 - 0s - loss: 0.5908 - acc: 1.0000 - 9ms/epoch - 9ms/step\n",
      "Epoch 62/100\n",
      "1/1 - 0s - loss: 0.5889 - acc: 1.0000 - 7ms/epoch - 7ms/step\n",
      "Epoch 63/100\n",
      "1/1 - 0s - loss: 0.5869 - acc: 1.0000 - 7ms/epoch - 7ms/step\n",
      "Epoch 64/100\n",
      "1/1 - 0s - loss: 0.5850 - acc: 1.0000 - 10ms/epoch - 10ms/step\n",
      "Epoch 65/100\n",
      "1/1 - 0s - loss: 0.5830 - acc: 1.0000 - 10ms/epoch - 10ms/step\n",
      "Epoch 66/100\n",
      "1/1 - 0s - loss: 0.5810 - acc: 1.0000 - 7ms/epoch - 7ms/step\n",
      "Epoch 67/100\n",
      "1/1 - 0s - loss: 0.5791 - acc: 1.0000 - 11ms/epoch - 11ms/step\n",
      "Epoch 68/100\n",
      "1/1 - 0s - loss: 0.5771 - acc: 1.0000 - 7ms/epoch - 7ms/step\n",
      "Epoch 69/100\n",
      "1/1 - 0s - loss: 0.5751 - acc: 1.0000 - 6ms/epoch - 6ms/step\n",
      "Epoch 70/100\n",
      "1/1 - 0s - loss: 0.5731 - acc: 1.0000 - 9ms/epoch - 9ms/step\n",
      "Epoch 71/100\n",
      "1/1 - 0s - loss: 0.5711 - acc: 1.0000 - 9ms/epoch - 9ms/step\n",
      "Epoch 72/100\n",
      "1/1 - 0s - loss: 0.5691 - acc: 1.0000 - 12ms/epoch - 12ms/step\n",
      "Epoch 73/100\n",
      "1/1 - 0s - loss: 0.5671 - acc: 1.0000 - 11ms/epoch - 11ms/step\n",
      "Epoch 74/100\n",
      "1/1 - 0s - loss: 0.5650 - acc: 1.0000 - 12ms/epoch - 12ms/step\n",
      "Epoch 75/100\n",
      "1/1 - 0s - loss: 0.5630 - acc: 1.0000 - 10ms/epoch - 10ms/step\n",
      "Epoch 76/100\n",
      "1/1 - 0s - loss: 0.5610 - acc: 1.0000 - 11ms/epoch - 11ms/step\n",
      "Epoch 77/100\n",
      "1/1 - 0s - loss: 0.5589 - acc: 1.0000 - 12ms/epoch - 12ms/step\n",
      "Epoch 78/100\n",
      "1/1 - 0s - loss: 0.5569 - acc: 1.0000 - 9ms/epoch - 9ms/step\n",
      "Epoch 79/100\n",
      "1/1 - 0s - loss: 0.5548 - acc: 1.0000 - 10ms/epoch - 10ms/step\n",
      "Epoch 80/100\n",
      "1/1 - 0s - loss: 0.5528 - acc: 1.0000 - 13ms/epoch - 13ms/step\n",
      "Epoch 81/100\n",
      "1/1 - 0s - loss: 0.5507 - acc: 1.0000 - 6ms/epoch - 6ms/step\n",
      "Epoch 82/100\n",
      "1/1 - 0s - loss: 0.5486 - acc: 1.0000 - 11ms/epoch - 11ms/step\n",
      "Epoch 83/100\n",
      "1/1 - 0s - loss: 0.5465 - acc: 1.0000 - 9ms/epoch - 9ms/step\n",
      "Epoch 84/100\n",
      "1/1 - 0s - loss: 0.5445 - acc: 1.0000 - 9ms/epoch - 9ms/step\n",
      "Epoch 85/100\n",
      "1/1 - 0s - loss: 0.5424 - acc: 1.0000 - 11ms/epoch - 11ms/step\n",
      "Epoch 86/100\n",
      "1/1 - 0s - loss: 0.5403 - acc: 1.0000 - 14ms/epoch - 14ms/step\n",
      "Epoch 87/100\n",
      "1/1 - 0s - loss: 0.5382 - acc: 1.0000 - 10ms/epoch - 10ms/step\n",
      "Epoch 88/100\n",
      "1/1 - 0s - loss: 0.5361 - acc: 1.0000 - 7ms/epoch - 7ms/step\n",
      "Epoch 89/100\n",
      "1/1 - 0s - loss: 0.5340 - acc: 1.0000 - 9ms/epoch - 9ms/step\n",
      "Epoch 90/100\n",
      "1/1 - 0s - loss: 0.5319 - acc: 1.0000 - 8ms/epoch - 8ms/step\n",
      "Epoch 91/100\n",
      "1/1 - 0s - loss: 0.5297 - acc: 1.0000 - 8ms/epoch - 8ms/step\n",
      "Epoch 92/100\n",
      "1/1 - 0s - loss: 0.5276 - acc: 1.0000 - 9ms/epoch - 9ms/step\n",
      "Epoch 93/100\n",
      "1/1 - 0s - loss: 0.5255 - acc: 1.0000 - 10ms/epoch - 10ms/step\n",
      "Epoch 94/100\n",
      "1/1 - 0s - loss: 0.5234 - acc: 1.0000 - 12ms/epoch - 12ms/step\n",
      "Epoch 95/100\n",
      "1/1 - 0s - loss: 0.5212 - acc: 1.0000 - 11ms/epoch - 11ms/step\n",
      "Epoch 96/100\n",
      "1/1 - 0s - loss: 0.5191 - acc: 1.0000 - 12ms/epoch - 12ms/step\n",
      "Epoch 97/100\n",
      "1/1 - 0s - loss: 0.5170 - acc: 1.0000 - 8ms/epoch - 8ms/step\n",
      "Epoch 98/100\n",
      "1/1 - 0s - loss: 0.5148 - acc: 1.0000 - 9ms/epoch - 9ms/step\n",
      "Epoch 99/100\n",
      "1/1 - 0s - loss: 0.5127 - acc: 1.0000 - 9ms/epoch - 9ms/step\n",
      "Epoch 100/100\n",
      "1/1 - 0s - loss: 0.5105 - acc: 1.0000 - 11ms/epoch - 11ms/step\n"
     ]
    },
    {
     "data": {
      "text/plain": [
       "<keras.callbacks.History at 0x7f9d3ef84d30>"
      ]
     },
     "execution_count": 8,
     "metadata": {},
     "output_type": "execute_result"
    }
   ],
   "source": [
    "from tensorflow.keras.models import Sequential\n",
    "from tensorflow.keras.layers import Dense, Embedding, Flatten\n",
    "\n",
    "embedding_dim = 4\n",
    "\n",
    "model = Sequential()\n",
    "model.add(Embedding(vocab_size, embedding_dim, input_length=max_len))\n",
    "model.add(Flatten())\n",
    "model.add(Dense(1, activation='sigmoid'))\n",
    "\n",
    "model.compile(optimizer='adam', loss='binary_crossentropy', metrics=['acc'])\n",
    "model.fit(X_train, y_train, epochs=100, verbose=2)"
   ]
  }
 ],
 "metadata": {
  "kernelspec": {
   "display_name": ".venv",
   "language": "python",
   "name": "python3"
  },
  "language_info": {
   "codemirror_mode": {
    "name": "ipython",
    "version": 3
   },
   "file_extension": ".py",
   "mimetype": "text/x-python",
   "name": "python",
   "nbconvert_exporter": "python",
   "pygments_lexer": "ipython3",
   "version": "3.10.9"
  },
  "orig_nbformat": 4,
  "vscode": {
   "interpreter": {
    "hash": "062506b248a5e59c87f0fde1a563464117ccb8a295884c0b350b6a5e3b6fb6bc"
   }
  }
 },
 "nbformat": 4,
 "nbformat_minor": 2
}
